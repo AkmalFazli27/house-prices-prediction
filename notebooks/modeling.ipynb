{
 "cells": [
  {
   "cell_type": "code",
   "execution_count": 4,
   "id": "23180a2c",
   "metadata": {},
   "outputs": [],
   "source": [
    "import pandas as pd\n",
    "import numpy as np\n",
    "import matplotlib.pyplot as plt\n",
    "import seaborn as sns\n",
    "\n",
    "from sklearn.pipeline import Pipeline, make_pipeline\n",
    "from sklearn.impute import SimpleImputer\n",
    "from sklearn.preprocessing import OrdinalEncoder, StandardScaler, OneHotEncoder\n",
    "from sklearn.compose import make_column_transformer, ColumnTransformer"
   ]
  },
  {
   "cell_type": "code",
   "execution_count": 5,
   "id": "97867fbf",
   "metadata": {},
   "outputs": [],
   "source": [
    "train_df = pd.read_csv(\"D:\\\\Ameng\\\\Data Science Project\\\\house-prices-prediction\\\\data\\\\features\\\\featured_train.csv\")\n",
    "test_df = pd.read_csv(\"D:\\\\Ameng\\\\Data Science Project\\\\house-prices-prediction\\\\data\\\\features\\\\featured_test.csv\")"
   ]
  },
  {
   "cell_type": "markdown",
   "id": "ce7074bc",
   "metadata": {},
   "source": [
    "### Pipeline"
   ]
  },
  {
   "cell_type": "code",
   "execution_count": 6,
   "id": "62c7f824",
   "metadata": {},
   "outputs": [
    {
     "data": {
      "text/plain": [
       "MSZoning         object\n",
       "Street           object\n",
       "LotShape         object\n",
       "LandContour      object\n",
       "Utilities        object\n",
       "LotConfig        object\n",
       "LandSlope        object\n",
       "Neighborhood     object\n",
       "Condition1       object\n",
       "Condition2       object\n",
       "BldgType         object\n",
       "HouseStyle       object\n",
       "RoofStyle        object\n",
       "RoofMatl         object\n",
       "Exterior1st      object\n",
       "Exterior2nd      object\n",
       "MasVnrType       object\n",
       "ExterQual        object\n",
       "ExterCond        object\n",
       "Foundation       object\n",
       "BsmtQual         object\n",
       "BsmtCond         object\n",
       "BsmtExposure     object\n",
       "BsmtFinType1     object\n",
       "Heating          object\n",
       "HeatingQC        object\n",
       "CentralAir       object\n",
       "Electrical       object\n",
       "KitchenQual      object\n",
       "Functional       object\n",
       "FireplaceQu      object\n",
       "GarageType       object\n",
       "GarageFinish     object\n",
       "GarageQual       object\n",
       "GarageCond       object\n",
       "PavedDrive       object\n",
       "SaleType         object\n",
       "SaleCondition    object\n",
       "dtype: object"
      ]
     },
     "execution_count": 6,
     "metadata": {},
     "output_type": "execute_result"
    }
   ],
   "source": [
    "train_df.dtypes[train_df.dtypes=='object']"
   ]
  },
  {
   "cell_type": "markdown",
   "id": "ef74cb3e",
   "metadata": {},
   "source": [
    "Using encoding method to categorical features."
   ]
  },
  {
   "cell_type": "code",
   "execution_count": 7,
   "id": "0aa0b3db",
   "metadata": {},
   "outputs": [],
   "source": [
    "# ordinal encoding\n",
    "ode_cols = ['LotShape', 'LandContour','Utilities','LandSlope',  'BsmtQual',  'BsmtFinType1',  'CentralAir',  'Functional',\n",
    "            'FireplaceQu', 'GarageFinish', 'GarageQual', 'PavedDrive', 'ExterCond', 'KitchenQual', 'BsmtExposure', 'HeatingQC','ExterQual', 'BsmtCond']"
   ]
  },
  {
   "cell_type": "code",
   "execution_count": 8,
   "id": "64ed1d86",
   "metadata": {},
   "outputs": [],
   "source": [
    "# one hot encoding\n",
    "ohe_cols = ['Street', 'LotConfig','Neighborhood', 'Condition1', 'Condition2', 'BldgType', 'HouseStyle', 'RoofStyle', 'Exterior1st', 'Exterior2nd',\n",
    "            'MasVnrType','Foundation',  'Electrical',  'SaleType', 'MSZoning', 'SaleCondition', 'Heating', 'GarageType', 'RoofMatl']"
   ]
  },
  {
   "cell_type": "code",
   "execution_count": 9,
   "id": "6bf51e92",
   "metadata": {},
   "outputs": [],
   "source": [
    "num_cols = train_df.select_dtypes(include=['int64', 'float64']).columns\n",
    "num_cols = num_cols.drop('SalePrice')"
   ]
  },
  {
   "cell_type": "code",
   "execution_count": 10,
   "id": "1a185e0a",
   "metadata": {},
   "outputs": [],
   "source": [
    "num_pipeline = Pipeline(steps=[\n",
    "    ('impute', SimpleImputer(strategy='mean')),\n",
    "    ('scaler', StandardScaler())\n",
    "])"
   ]
  },
  {
   "cell_type": "code",
   "execution_count": 11,
   "id": "67f7a681",
   "metadata": {},
   "outputs": [],
   "source": [
    "ode_pipeline = Pipeline(steps=[\n",
    "    ('impute', SimpleImputer(strategy='most_frequent')),\n",
    "    ('ode', OrdinalEncoder(handle_unknown='use_encoded_value', unknown_value=-1))\n",
    "])"
   ]
  },
  {
   "cell_type": "code",
   "execution_count": 12,
   "id": "32a33042",
   "metadata": {},
   "outputs": [],
   "source": [
    "ohe_pipeline = Pipeline(steps=[\n",
    "    ('impute', SimpleImputer(strategy='most_frequent')),\n",
    "    ('ohe', OneHotEncoder(handle_unknown='ignore', sparse_output=False))\n",
    "])"
   ]
  },
  {
   "cell_type": "code",
   "execution_count": 13,
   "id": "cd2cc48e",
   "metadata": {},
   "outputs": [],
   "source": [
    "col_trans = ColumnTransformer(transformers=[\n",
    "    ('num_p', num_pipeline, num_cols),\n",
    "    ('ode_p', ode_pipeline, ode_cols),\n",
    "    ('ohe_p', ohe_pipeline, ohe_cols)\n",
    "], remainder='passthrough', n_jobs=-1)"
   ]
  },
  {
   "cell_type": "code",
   "execution_count": 14,
   "id": "f54cb05b",
   "metadata": {},
   "outputs": [],
   "source": [
    "pipeline = Pipeline(steps=[\n",
    "    ('preprocessing', col_trans)\n",
    "])"
   ]
  },
  {
   "cell_type": "markdown",
   "id": "04bac975",
   "metadata": {},
   "source": [
    "### X and y Split"
   ]
  },
  {
   "cell_type": "code",
   "execution_count": null,
   "id": "ef039f8f",
   "metadata": {},
   "outputs": [],
   "source": []
  }
 ],
 "metadata": {
  "kernelspec": {
   "display_name": "Python 3",
   "language": "python",
   "name": "python3"
  },
  "language_info": {
   "codemirror_mode": {
    "name": "ipython",
    "version": 3
   },
   "file_extension": ".py",
   "mimetype": "text/x-python",
   "name": "python",
   "nbconvert_exporter": "python",
   "pygments_lexer": "ipython3",
   "version": "3.12.6"
  }
 },
 "nbformat": 4,
 "nbformat_minor": 5
}
